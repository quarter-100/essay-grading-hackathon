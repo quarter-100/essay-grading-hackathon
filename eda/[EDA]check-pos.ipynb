{
 "cells": [
  {
   "cell_type": "code",
   "execution_count": 47,
   "id": "0938250d",
   "metadata": {},
   "outputs": [],
   "source": [
    "from konlpy.tag import Mecab\n",
    "mecab = Mecab()"
   ]
  },
  {
   "cell_type": "markdown",
   "id": "80d3898d",
   "metadata": {},
   "source": [
    "### 어미"
   ]
  },
  {
   "cell_type": "code",
   "execution_count": 9,
   "id": "7709d29b",
   "metadata": {},
   "outputs": [],
   "source": [
    "sentence = '나는 나의 멋진 모습을 물고기들과 사람들에게 보여주고 있는데...'\n",
    "sentence2 = '나는 나의 멋진 모습을 물고기들과 사람들에게 보여주고 있었다.'"
   ]
  },
  {
   "cell_type": "code",
   "execution_count": 13,
   "id": "eb6e0f04",
   "metadata": {},
   "outputs": [
    {
     "name": "stdout",
     "output_type": "stream",
     "text": [
      "[('나', 'NP'), ('는', 'JX'), ('나', 'NP'), ('의', 'JKG'), ('멋진', 'VA+ETM'), ('모습', 'NNG'), ('을', 'JKO'), ('물고기', 'NNG'), ('들', 'XSN'), ('과', 'JC'), ('사람', 'NNG'), ('들', 'XSN'), ('에게', 'JKB'), ('보여', 'VV+EC'), ('주', 'VX'), ('고', 'EC'), ('있', 'VX'), ('는데', 'EF'), ('.', 'SF'), ('..', 'SY')]\n",
      "[('나', 'NP'), ('는', 'JX'), ('나', 'NP'), ('의', 'JKG'), ('멋진', 'VA+ETM'), ('모습', 'NNG'), ('을', 'JKO'), ('물고기', 'NNG'), ('들', 'XSN'), ('과', 'JC'), ('사람', 'NNG'), ('들', 'XSN'), ('에게', 'JKB'), ('보여', 'VV+EC'), ('주', 'VX'), ('고', 'EC'), ('있', 'VX'), ('었', 'EP'), ('다', 'EF'), ('.', 'SF')]\n"
     ]
    }
   ],
   "source": [
    "print(mecab.pos(sentence))\n",
    "print(mecab.pos(sentence2))"
   ]
  },
  {
   "cell_type": "code",
   "execution_count": 12,
   "id": "b3764b42",
   "metadata": {},
   "outputs": [],
   "source": [
    "sen3 = '사실 이곳은 가상 세계가 아닐까 그치 내가 바다 생물이 될 수 있다고 한거부터 이상하긴 했어'\n",
    "sen4 = '사실 이곳은 가상 세계가 아닐까. 그치 내가 바다 생물이 될 수 있다고 한 것부터 이상했다.'"
   ]
  },
  {
   "cell_type": "code",
   "execution_count": 14,
   "id": "3ac74458",
   "metadata": {},
   "outputs": [
    {
     "name": "stdout",
     "output_type": "stream",
     "text": [
      "[('사실', 'MAG'), ('이곳', 'NP'), ('은', 'JX'), ('가상', 'NNG'), ('세계', 'NNG'), ('가', 'JKC'), ('아닐까', 'VCN+EF'), ('그치', 'IC'), ('내', 'NP'), ('가', 'JKS'), ('바다', 'NNG'), ('생물', 'NNG'), ('이', 'JKS'), ('될', 'VV+ETM'), ('수', 'NNB'), ('있', 'VV'), ('다고', 'EC'), ('한', 'VX+ETM'), ('거', 'NNB'), ('부터', 'JX'), ('이상', 'NNG'), ('하', 'XSV'), ('긴', 'ETN+JX'), ('했', 'VX+EP'), ('어', 'EC')]\n",
      "[('사실', 'MAG'), ('이곳', 'NP'), ('은', 'JX'), ('가상', 'NNG'), ('세계', 'NNG'), ('가', 'JKC'), ('아닐까', 'VCN+EF'), ('.', 'SF'), ('그치', 'IC'), ('내', 'NP'), ('가', 'JKS'), ('바다', 'NNG'), ('생물', 'NNG'), ('이', 'JKS'), ('될', 'VV+ETM'), ('수', 'NNB'), ('있', 'VV'), ('다고', 'EC'), ('한', 'VX+ETM'), ('것', 'NNB'), ('부터', 'JX'), ('이상', 'NNG'), ('했', 'XSV+EP'), ('다', 'EF'), ('.', 'SF')]\n"
     ]
    }
   ],
   "source": [
    "print(mecab.pos(sen3))\n",
    "print(mecab.pos(sen4))"
   ]
  },
  {
   "cell_type": "code",
   "execution_count": 15,
   "id": "83d61472",
   "metadata": {},
   "outputs": [],
   "source": [
    "sen5 = '근데 다른 물고기들은 상어만 피하는거입니다.'\n",
    "sen6 = '근데 다른 물고기들은 상어만 피했습니다.'"
   ]
  },
  {
   "cell_type": "code",
   "execution_count": 20,
   "id": "546258a6",
   "metadata": {},
   "outputs": [
    {
     "name": "stdout",
     "output_type": "stream",
     "text": [
      "[('근데', 'MAJ'), ('다른', 'MM'), ('물고기', 'NNG'), ('들', 'XSN'), ('은', 'JX'), ('상어', 'NNG'), ('만', 'JX'), ('피하', 'VV'), ('는', 'ETM'), ('거', 'NNB'), ('입니다', 'VCP+EF'), ('.', 'SF')]\n",
      "\n",
      "[('근데', 'MAJ'), ('다른', 'MM'), ('물고기', 'NNG'), ('들', 'XSN'), ('은', 'JX'), ('상어', 'NNG'), ('만', 'JX'), ('피했', 'VV+EP'), ('습니다', 'EF'), ('.', 'SF')]\n"
     ]
    }
   ],
   "source": [
    "print(mecab.pos(sen5))\n",
    "print()\n",
    "print(mecab.pos(sen6))"
   ]
  },
  {
   "cell_type": "code",
   "execution_count": 21,
   "id": "2d59bbcc",
   "metadata": {},
   "outputs": [],
   "source": [
    "sen7 = '엘리가 몇일동안 수소문해서 알아 왔는데 그건 못된 문어 마녀를 한 짓 이라한다.'\n",
    "sen8 = '엘리가 며칠동안 수소문해서 알아왔는데 그건 못된 문어 마녀가 한 짓이라고 한다.'"
   ]
  },
  {
   "cell_type": "code",
   "execution_count": 22,
   "id": "d2f17994",
   "metadata": {},
   "outputs": [
    {
     "name": "stdout",
     "output_type": "stream",
     "text": [
      "[('엘리', 'NNP'), ('가', 'JKS'), ('몇', 'MM'), ('일', 'NR'), ('동안', 'NNG'), ('수소문', 'NNG'), ('해서', 'XSV+EC'), ('알', 'VV'), ('아', 'EC'), ('왔', 'VX+EP'), ('는데', 'EC'), ('그건', 'NP+JX'), ('못', 'MAG'), ('된', 'VV+ETM'), ('문어', 'NNG'), ('마녀', 'NNG'), ('를', 'JKO'), ('한', 'VV+ETM'), ('짓', 'NNG'), ('이', 'VCP'), ('라', 'EC'), ('한다', 'VX+EF'), ('.', 'SF')]\n",
      "\n",
      "[('엘리', 'NNP'), ('가', 'JKS'), ('며칠', 'NNG'), ('동안', 'NNG'), ('수소문', 'NNG'), ('해서', 'XSV+EC'), ('알', 'VV'), ('아', 'EC'), ('왔', 'VX+EP'), ('는데', 'EC'), ('그건', 'NP+JX'), ('못', 'MAG'), ('된', 'VV+ETM'), ('문어', 'NNG'), ('마녀', 'NNG'), ('가', 'JKS'), ('한', 'MM'), ('짓', 'NNG'), ('이', 'VCP'), ('라고', 'EC'), ('한다', 'VX+EF'), ('.', 'SF')]\n"
     ]
    }
   ],
   "source": [
    "print(mecab.pos(sen7))\n",
    "print()\n",
    "print(mecab.pos(sen8))"
   ]
  },
  {
   "cell_type": "code",
   "execution_count": 23,
   "id": "7681d8b0",
   "metadata": {},
   "outputs": [],
   "source": [
    "sen9 = '이재 배가 불러 헤엄을쳐 물고기와 인사도 하고 물위로 올라가서 숨도쉬지 평화로었지'\n",
    "sen10 = '이제 배가 불러. 헤엄을쳐 물고기와 인사도 하고 물 위로 올라가서 숨도 쉬고 평화로웠지.'"
   ]
  },
  {
   "cell_type": "code",
   "execution_count": 24,
   "id": "33559398",
   "metadata": {
    "scrolled": true
   },
   "outputs": [
    {
     "name": "stdout",
     "output_type": "stream",
     "text": [
      "[('이', 'MM'), ('재', 'XPN'), ('배', 'NNG'), ('가', 'JKS'), ('불러', 'VV+EC'), ('헤엄', 'NNG'), ('을', 'JKO'), ('쳐', 'VV+EC'), ('물고기', 'NNG'), ('와', 'JC'), ('인사', 'NNG'), ('도', 'JX'), ('하', 'VV'), ('고', 'EC'), ('물위', 'NNG'), ('로', 'JKB'), ('올라가', 'VV'), ('서', 'EC'), ('숨', 'NNG'), ('도', 'JX'), ('쉬', 'VV'), ('지', 'EC'), ('평화', 'NNG'), ('로', 'JKB'), ('었', 'EP'), ('지', 'EC')]\n",
      "\n",
      "[('이제', 'MAG'), ('배', 'NNG'), ('가', 'JKS'), ('불러', 'VV+EF'), ('.', 'SF'), ('헤엄', 'NNG'), ('을', 'JKO'), ('쳐', 'VV+EC'), ('물고기', 'NNG'), ('와', 'JC'), ('인사', 'NNG'), ('도', 'JX'), ('하', 'VV'), ('고', 'EC'), ('물', 'NNG'), ('위', 'NNG'), ('로', 'JKB'), ('올라가', 'VV'), ('서', 'EC'), ('숨', 'NNG'), ('도', 'JX'), ('쉬', 'VV'), ('고', 'EC'), ('평화', 'NNG'), ('로웠', 'XSA+EP'), ('지', 'EF'), ('.', 'SF')]\n"
     ]
    }
   ],
   "source": [
    "print(mecab.pos(sen9))\n",
    "print()\n",
    "print(mecab.pos(sen10))"
   ]
  },
  {
   "cell_type": "markdown",
   "id": "06f69e89",
   "metadata": {},
   "source": [
    "### 조사"
   ]
  },
  {
   "cell_type": "code",
   "execution_count": 25,
   "id": "5e1af5a9",
   "metadata": {},
   "outputs": [],
   "source": [
    "sen11 = '상어친구는 잘 있을까? 생각하며 집으로 가고있을때 바다로 어떤 쪽지가 든 병이 있었다.'\n",
    "sen12 = \"'상어친구는 잘 있을까?'라고 생각하며 집으로 가고 있을 때 바다에 어떤 쪽지가 든 병이 있었다.\""
   ]
  },
  {
   "cell_type": "code",
   "execution_count": 26,
   "id": "d4f1821b",
   "metadata": {},
   "outputs": [
    {
     "name": "stdout",
     "output_type": "stream",
     "text": [
      "[('상어', 'NNG'), ('친구', 'NNG'), ('는', 'JX'), ('잘', 'MAG'), ('있', 'VV'), ('을까', 'EF'), ('?', 'SF'), ('생각', 'NNG'), ('하', 'XSA'), ('며', 'EC'), ('집', 'NNG'), ('으로', 'JKB'), ('가', 'VV'), ('고', 'EC'), ('있', 'VX'), ('을', 'ETM'), ('때', 'NNG'), ('바다', 'NNG'), ('로', 'JKB'), ('어떤', 'MM'), ('쪽지', 'NNG'), ('가', 'JKS'), ('든', 'VV+ETM'), ('병', 'NNG'), ('이', 'JKS'), ('있', 'VV'), ('었', 'EP'), ('다', 'EF'), ('.', 'SF')]\n",
      "\n",
      "[(\"'\", 'SY'), ('상어', 'NNG'), ('친구', 'NNG'), ('는', 'JX'), ('잘', 'MAG'), ('있', 'VV'), ('을까', 'EF'), ('?', 'SF'), (\"'\", 'SY'), ('라고', 'JKQ'), ('생각', 'NNG'), ('하', 'XSV'), ('며', 'EC'), ('집', 'NNG'), ('으로', 'JKB'), ('가', 'VV'), ('고', 'EC'), ('있', 'VX'), ('을', 'ETM'), ('때', 'NNG'), ('바다', 'NNG'), ('에', 'JKB'), ('어떤', 'MM'), ('쪽지', 'NNG'), ('가', 'JKS'), ('든', 'VV+ETM'), ('병', 'NNG'), ('이', 'JKS'), ('있', 'VV'), ('었', 'EP'), ('다', 'EF'), ('.', 'SF')]\n"
     ]
    }
   ],
   "source": [
    "print(mecab.pos(sen11))\n",
    "print()\n",
    "print(mecab.pos(sen12))"
   ]
  },
  {
   "cell_type": "code",
   "execution_count": 27,
   "id": "7c53ad25",
   "metadata": {},
   "outputs": [],
   "source": [
    "sen13 = '이유는 바다거북이는 등껍질이 단단하고 숨으면 돌처럼 착각 할수있을뿐만 아니라 등껍질이 넓기 때문에 작은 바다생물들의 쉼터가 될수도 있고 작은 바다생물들을 태우고 다닐수 있기 때문이다.'\n",
    "sen14 = '이유는 바다거북이는 등껍질이 단단하고 숨으면 돌로 착각 할 수 있을 뿐만 아니라 등껍질이 넓기 때문에 작은 바다생물들의 쉼터가 될 수도 있고 작은 바다생물들을 태우고 다닐 수 있기 때문이다.'"
   ]
  },
  {
   "cell_type": "code",
   "execution_count": 28,
   "id": "f0b25bc2",
   "metadata": {
    "scrolled": true
   },
   "outputs": [
    {
     "name": "stdout",
     "output_type": "stream",
     "text": [
      "[('이유', 'NNG'), ('는', 'JX'), ('바다거북', 'NNG'), ('이', 'NP'), ('는', 'JX'), ('등껍질', 'NNG'), ('이', 'JKS'), ('단단', 'XR'), ('하', 'XSA'), ('고', 'EC'), ('숨', 'VV'), ('으면', 'EC'), ('돌', 'NNG'), ('처럼', 'JKB'), ('착각', 'NNG'), ('할', 'XSV+ETM'), ('수', 'NNB'), ('있', 'VV'), ('을', 'ETM'), ('뿐', 'NNB'), ('만', 'JX'), ('아니', 'VCN'), ('라', 'EC'), ('등껍질', 'NNG'), ('이', 'JKS'), ('넓', 'VA'), ('기', 'ETN'), ('때문', 'NNB'), ('에', 'JKB'), ('작', 'VA'), ('은', 'ETM'), ('바', 'NNB'), ('다', 'JX'), ('생물', 'NNG'), ('들', 'XSN'), ('의', 'JKG'), ('쉼터', 'NNG'), ('가', 'JKS'), ('될', 'VV+ETM'), ('수', 'NNB'), ('도', 'JX'), ('있', 'VA'), ('고', 'EC'), ('작', 'VA'), ('은', 'ETM'), ('바', 'NNB'), ('다', 'JX'), ('생물', 'NNG'), ('들', 'XSN'), ('을', 'JKO'), ('태우', 'VV'), ('고', 'EC'), ('다닐', 'VV+ETM'), ('수', 'NNB'), ('있', 'VV'), ('기', 'ETN'), ('때문', 'NNB'), ('이', 'VCP'), ('다', 'EF'), ('.', 'SF')]\n",
      "\n",
      "[('이유', 'NNG'), ('는', 'JX'), ('바다거북', 'NNG'), ('이', 'NP'), ('는', 'JX'), ('등껍질', 'NNG'), ('이', 'JKS'), ('단단', 'XR'), ('하', 'XSA'), ('고', 'EC'), ('숨', 'VV'), ('으면', 'EC'), ('돌', 'NNG'), ('로', 'JKB'), ('착각', 'NNG'), ('할', 'XSV+ETM'), ('수', 'NNB'), ('있', 'VV'), ('을', 'ETM'), ('뿐', 'NNB'), ('만', 'JX'), ('아니', 'VCN'), ('라', 'EC'), ('등껍질', 'NNG'), ('이', 'JKS'), ('넓', 'VA'), ('기', 'ETN'), ('때문', 'NNB'), ('에', 'JKB'), ('작', 'VA'), ('은', 'ETM'), ('바', 'NNB'), ('다', 'JX'), ('생물', 'NNG'), ('들', 'XSN'), ('의', 'JKG'), ('쉼터', 'NNG'), ('가', 'JKS'), ('될', 'VV+ETM'), ('수', 'NNB'), ('도', 'JX'), ('있', 'VA'), ('고', 'EC'), ('작', 'VA'), ('은', 'ETM'), ('바', 'NNB'), ('다', 'JX'), ('생물', 'NNG'), ('들', 'XSN'), ('을', 'JKO'), ('태우', 'VV'), ('고', 'EC'), ('다닐', 'VV+ETM'), ('수', 'NNB'), ('있', 'VV'), ('기', 'ETN'), ('때문', 'NNB'), ('이', 'VCP'), ('다', 'EF'), ('.', 'SF')]\n"
     ]
    }
   ],
   "source": [
    "print(mecab.pos(sen13))\n",
    "print()\n",
    "print(mecab.pos(sen14))"
   ]
  },
  {
   "cell_type": "markdown",
   "id": "6fff5fe0",
   "metadata": {},
   "source": [
    "### 문장부호 연속"
   ]
  },
  {
   "cell_type": "code",
   "execution_count": 29,
   "id": "22e57169",
   "metadata": {},
   "outputs": [],
   "source": [
    "sen15 = '나는 뭐하는거야?! 하며 화를냈다.'\n",
    "sen16 = '나는 \"뭐하는거야?\" 하며 화를냈다.'"
   ]
  },
  {
   "cell_type": "code",
   "execution_count": 30,
   "id": "1903aa93",
   "metadata": {
    "scrolled": true
   },
   "outputs": [
    {
     "name": "stdout",
     "output_type": "stream",
     "text": [
      "[('나', 'NP'), ('는', 'JX'), ('뭐', 'IC'), ('하', 'VV'), ('는', 'ETM'), ('거', 'NNB'), ('야', 'VCP+EF'), ('?', 'SF'), ('!', 'SY'), ('하', 'VV'), ('며', 'EC'), ('화', 'NNG'), ('를', 'JKO'), ('냈', 'VV+EP'), ('다', 'EF'), ('.', 'SF')]\n",
      "\n",
      "[('나', 'NP'), ('는', 'JX'), ('\"', 'SY'), ('뭐', 'IC'), ('하', 'VV'), ('는', 'ETM'), ('거', 'NNB'), ('야', 'VCP+EF'), ('?', 'SF'), ('\"', 'SY'), ('하', 'VV'), ('며', 'EC'), ('화', 'NNG'), ('를', 'JKO'), ('냈', 'VV+EP'), ('다', 'EF'), ('.', 'SF')]\n"
     ]
    }
   ],
   "source": [
    "print(mecab.pos(sen15))\n",
    "print()\n",
    "print(mecab.pos(sen16))"
   ]
  },
  {
   "cell_type": "markdown",
   "id": "d230a265",
   "metadata": {},
   "source": [
    "### 어순 관련"
   ]
  },
  {
   "cell_type": "code",
   "execution_count": 31,
   "id": "18730313",
   "metadata": {},
   "outputs": [],
   "source": [
    "sen17 = '대부분 내가 알고 있는 물고기는 따로다닌다.'\n",
    "sen18 = '내가 알고 있는 물고기들은 대부분 따로 다닌다.'"
   ]
  },
  {
   "cell_type": "code",
   "execution_count": 32,
   "id": "5067ca27",
   "metadata": {},
   "outputs": [
    {
     "name": "stdout",
     "output_type": "stream",
     "text": [
      "[('대부분', 'NNG'), ('내', 'NP'), ('가', 'JKS'), ('알', 'VV'), ('고', 'EC'), ('있', 'VX'), ('는', 'ETM'), ('물고기', 'NNG'), ('는', 'JX'), ('따로', 'MAG'), ('다닌다', 'VV+EF'), ('.', 'SF')]\n",
      "\n",
      "[('내', 'NP'), ('가', 'JKS'), ('알', 'VV'), ('고', 'EC'), ('있', 'VX'), ('는', 'ETM'), ('물고기', 'NNG'), ('들', 'XSN'), ('은', 'JX'), ('대부분', 'NNG'), ('따로', 'MAG'), ('다닌다', 'VV+EF'), ('.', 'SF')]\n"
     ]
    }
   ],
   "source": [
    "print(mecab.pos(sen17)) # NNG(일반명사) -> NP(대명사)\n",
    "print()\n",
    "print(mecab.pos(sen18))"
   ]
  },
  {
   "cell_type": "code",
   "execution_count": 33,
   "id": "fb90f42f",
   "metadata": {},
   "outputs": [],
   "source": [
    "sen19 = '바로 그 종이는 복권이었다.'\n",
    "sen20 = '그 종이는 바로 복권이었다.'"
   ]
  },
  {
   "cell_type": "code",
   "execution_count": 34,
   "id": "67b0242f",
   "metadata": {},
   "outputs": [
    {
     "name": "stdout",
     "output_type": "stream",
     "text": [
      "[('바로', 'MAG'), ('그', 'MM'), ('종이', 'NNG'), ('는', 'JX'), ('복권', 'NNG'), ('이', 'VCP'), ('었', 'EP'), ('다', 'EF'), ('.', 'SF')]\n",
      "\n",
      "[('그', 'MM'), ('종이', 'NNG'), ('는', 'JX'), ('바로', 'MAG'), ('복권', 'NNG'), ('이', 'VCP'), ('었', 'EP'), ('다', 'EF'), ('.', 'SF')]\n"
     ]
    }
   ],
   "source": [
    "print(mecab.pos(sen19)) # MAG(일반부사) -> MM(관형사)\n",
    "print()\n",
    "print(mecab.pos(sen20))"
   ]
  },
  {
   "cell_type": "code",
   "execution_count": 35,
   "id": "68c10718",
   "metadata": {},
   "outputs": [],
   "source": [
    "sen21 = '나는 한 초등학생 6학년이다.'\n",
    "sen22 = '나는 6학년의 한 초등학생이다.'"
   ]
  },
  {
   "cell_type": "code",
   "execution_count": 36,
   "id": "c2e806e1",
   "metadata": {},
   "outputs": [
    {
     "name": "stdout",
     "output_type": "stream",
     "text": [
      "[('나', 'NP'), ('는', 'JX'), ('한', 'MM'), ('초등학생', 'NNG'), ('6', 'SN'), ('학년', 'NNG'), ('이', 'VCP'), ('다', 'EF'), ('.', 'SF')]\n",
      "\n",
      "[('나', 'NP'), ('는', 'JX'), ('6', 'SN'), ('학년', 'NNG'), ('의', 'JKG'), ('한', 'MM'), ('초등학생', 'NNG'), ('이', 'VCP'), ('다', 'EF'), ('.', 'SF')]\n"
     ]
    }
   ],
   "source": [
    "print(mecab.pos(sen21)) # MM(관형사) -> NNG(일반 명사)\n",
    "print()\n",
    "print(mecab.pos(sen22))"
   ]
  },
  {
   "cell_type": "code",
   "execution_count": 56,
   "id": "3b765ddb",
   "metadata": {},
   "outputs": [],
   "source": [
    "sen23 = '바다를 사람들은 마음껏 사용하고 있습니다.'\n",
    "sen24 = '사람들은 바다를 마음껏 사용하고 있습니다.'"
   ]
  },
  {
   "cell_type": "code",
   "execution_count": 58,
   "id": "cccf5e9e",
   "metadata": {},
   "outputs": [
    {
     "name": "stdout",
     "output_type": "stream",
     "text": [
      "[('바다', 'NNG'), ('를', 'JKO'), ('사람', 'NNG'), ('들', 'XSN'), ('은', 'JX'), ('마음껏', 'MAG'), ('사용', 'NNG'), ('하', 'XSV'), ('고', 'EC'), ('있', 'VX'), ('습니다', 'EF'), ('.', 'SF')]\n",
      "\n",
      "[('사람', 'NNG'), ('들', 'XSN'), ('은', 'JX'), ('바다', 'NNG'), ('를', 'JKO'), ('마음껏', 'MAG'), ('사용', 'NNG'), ('하', 'XSV'), ('고', 'EC'), ('있', 'VX'), ('습니다', 'EF'), ('.', 'SF')]\n"
     ]
    }
   ],
   "source": [
    "print(mecab.pos(sen23)) # JKO(목적격 조사) + NNG(일반 명사)\n",
    "print()\n",
    "print(mecab.pos(sen24))"
   ]
  },
  {
   "cell_type": "code",
   "execution_count": 41,
   "id": "c4244601",
   "metadata": {},
   "outputs": [],
   "source": [
    "sen25 = '내가 바다생물로 된다면 강치라는 독도에 살던 바다표범이되고 싶다.'\n",
    "sen26 = '내가 바다생물이 된다면 독도에 살던 강치라는 바다표범이되고 싶다.'"
   ]
  },
  {
   "cell_type": "code",
   "execution_count": 42,
   "id": "4e2c4d6b",
   "metadata": {},
   "outputs": [
    {
     "name": "stdout",
     "output_type": "stream",
     "text": [
      "[('내', 'NP'), ('가', 'JKS'), ('바다', 'NNG'), ('생물', 'NNG'), ('로', 'JKB'), ('된다면', 'VV+EC'), ('강', 'NNG'), ('치', 'XSN'), ('라는', 'VCP+ETM'), ('독도', 'NNP'), ('에', 'JKB'), ('살', 'VV'), ('던', 'ETM'), ('바다표범', 'NNG'), ('이', 'JKS'), ('되', 'VV'), ('고', 'EC'), ('싶', 'VX'), ('다', 'EF'), ('.', 'SF')]\n",
      "\n",
      "[('내', 'NP'), ('가', 'JKS'), ('바다', 'NNG'), ('생물', 'NNG'), ('이', 'JKS'), ('된다면', 'VV+EC'), ('독도', 'NNP'), ('에', 'JKB'), ('살', 'VV'), ('던', 'ETM'), ('강', 'NNG'), ('치', 'XSN'), ('라는', 'VCP+ETM'), ('바다표범', 'NNG'), ('이', 'JKS'), ('되', 'VV'), ('고', 'EC'), ('싶', 'VX'), ('다', 'EF'), ('.', 'SF')]\n"
     ]
    }
   ],
   "source": [
    "print(mecab.pos(sen25)) # JKO(목적격 조사) + NNG(일반 명사)\n",
    "print()\n",
    "print(mecab.pos(sen26))"
   ]
  },
  {
   "cell_type": "code",
   "execution_count": 43,
   "id": "115a4ea1",
   "metadata": {},
   "outputs": [],
   "source": [
    "sen27 = '오늘 난 좀 기분이 이상하다.'\n",
    "sen28 = '오늘 난 기분이 좀 이상하다.'"
   ]
  },
  {
   "cell_type": "code",
   "execution_count": 44,
   "id": "65208de4",
   "metadata": {},
   "outputs": [
    {
     "name": "stdout",
     "output_type": "stream",
     "text": [
      "[('오늘', 'MAG'), ('난', 'NP+JX'), ('좀', 'MAG'), ('기분', 'NNG'), ('이', 'JKS'), ('이상', 'NNG'), ('하', 'XSV'), ('다', 'EF'), ('.', 'SF')]\n",
      "\n",
      "[('오늘', 'MAG'), ('난', 'NP+JX'), ('기분', 'NNG'), ('이', 'JKS'), ('좀', 'MAG'), ('이상', 'NNG'), ('하', 'XSV'), ('다', 'EF'), ('.', 'SF')]\n"
     ]
    }
   ],
   "source": [
    "print(mecab.pos(sen27)) # \n",
    "print()\n",
    "print(mecab.pos(sen28))"
   ]
  },
  {
   "cell_type": "code",
   "execution_count": 45,
   "id": "e295a2f2",
   "metadata": {},
   "outputs": [],
   "source": [
    "sen29 = '친구는 마음만 맞으면 어느누구라도 될 수 있다.'\n",
    "sen30 = '마음만 맞으면 어느 누구라도 친구가 될 수 있다.'"
   ]
  },
  {
   "cell_type": "code",
   "execution_count": 46,
   "id": "5a4139f1",
   "metadata": {},
   "outputs": [
    {
     "name": "stdout",
     "output_type": "stream",
     "text": [
      "[('친구', 'NNG'), ('는', 'JX'), ('마음', 'NNG'), ('만', 'JX'), ('맞', 'VV'), ('으면', 'EC'), ('어느', 'MM'), ('누구', 'NP'), ('라도', 'VCP+EC'), ('될', 'VV+ETM'), ('수', 'NNB'), ('있', 'VV'), ('다', 'EF'), ('.', 'SF')]\n",
      "\n",
      "[('마음', 'NNG'), ('만', 'JX'), ('맞', 'VV'), ('으면', 'EC'), ('어느', 'MM'), ('누구', 'NP'), ('라도', 'VCP+EC'), ('친구', 'NNG'), ('가', 'JKS'), ('될', 'VV+ETM'), ('수', 'NNB'), ('있', 'VV'), ('다', 'EF'), ('.', 'SF')]\n"
     ]
    }
   ],
   "source": [
    "print(mecab.pos(sen29)) # \n",
    "print()\n",
    "print(mecab.pos(sen30))"
   ]
  },
  {
   "cell_type": "code",
   "execution_count": 53,
   "id": "d6a24585",
   "metadata": {},
   "outputs": [],
   "source": [
    "sen30 = '마음만 맞으면 어느 누구라도 친구가 될 수 있다.'\n",
    "sen31 = '마음만 맞으면 어느 누구라도 친구가 될 수 있다'"
   ]
  },
  {
   "cell_type": "code",
   "execution_count": 54,
   "id": "b16ea834",
   "metadata": {},
   "outputs": [
    {
     "name": "stdout",
     "output_type": "stream",
     "text": [
      "[('마음', 'NNG'), ('만', 'JX'), ('맞', 'VV'), ('으면', 'EC'), ('어느', 'MM'), ('누구', 'NP'), ('라도', 'VCP+EC'), ('친구', 'NNG'), ('가', 'JKS'), ('될', 'VV+ETM'), ('수', 'NNB'), ('있', 'VV'), ('다', 'EF'), ('.', 'SF')]\n",
      "\n",
      "[('마음', 'NNG'), ('만', 'JX'), ('맞', 'VV'), ('으면', 'EC'), ('어느', 'MM'), ('누구', 'NP'), ('라도', 'VCP+EC'), ('친구', 'NNG'), ('가', 'JKS'), ('될', 'VV+ETM'), ('수', 'NNB'), ('있', 'VV'), ('다', 'EC')]\n"
     ]
    }
   ],
   "source": [
    "print(mecab.pos(sen30)) # \n",
    "print()\n",
    "print(mecab.pos(sen31))"
   ]
  },
  {
   "cell_type": "code",
   "execution_count": null,
   "id": "1cf0ec83",
   "metadata": {},
   "outputs": [],
   "source": []
  }
 ],
 "metadata": {
  "kernelspec": {
   "display_name": "lightweight",
   "language": "python",
   "name": "lightweight"
  },
  "language_info": {
   "codemirror_mode": {
    "name": "ipython",
    "version": 3
   },
   "file_extension": ".py",
   "mimetype": "text/x-python",
   "name": "python",
   "nbconvert_exporter": "python",
   "pygments_lexer": "ipython3",
   "version": "3.7.11"
  }
 },
 "nbformat": 4,
 "nbformat_minor": 5
}
