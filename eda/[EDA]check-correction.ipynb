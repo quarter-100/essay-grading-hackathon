{
 "cells": [
  {
   "cell_type": "code",
   "execution_count": 67,
   "id": "3488b89c",
   "metadata": {},
   "outputs": [],
   "source": [
    "import pandas as pd\n",
    "import matplotlib.pyplot as plt\n",
    "import seaborn as sns\n",
    "import numpy as np\n",
    "import json\n",
    "import os"
   ]
  },
  {
   "cell_type": "code",
   "execution_count": 76,
   "id": "0b25bba1",
   "metadata": {},
   "outputs": [],
   "source": [
    "# 글짓기, 대안제시, 설명글, 주장, 찬성반대\n",
    "title = '글짓기'"
   ]
  },
  {
   "cell_type": "code",
   "execution_count": 77,
   "id": "ed6c4ab3",
   "metadata": {},
   "outputs": [
    {
     "data": {
      "text/plain": [
       "1200"
      ]
     },
     "execution_count": 77,
     "metadata": {},
     "output_type": "execute_result"
    }
   ],
   "source": [
    "path_dir = f'./라벨링데이터/{title}/'\n",
    "json_list = [path_dir + file for file in os.listdir(path_dir) if file.endswith(\".json\")]\n",
    "len(json_list)"
   ]
  },
  {
   "cell_type": "code",
   "execution_count": 78,
   "id": "66704d18",
   "metadata": {},
   "outputs": [
    {
     "data": {
      "text/plain": [
       "'./라벨링데이터/글짓기/글짓기_고등_2학년_ESSAY_53715_가공.json'"
      ]
     },
     "execution_count": 78,
     "metadata": {},
     "output_type": "execute_result"
    }
   ],
   "source": [
    "# 파일 1개 이름 출력\n",
    "json_list[0]"
   ]
  },
  {
   "cell_type": "code",
   "execution_count": 79,
   "id": "8d10a6d0",
   "metadata": {
    "scrolled": true
   },
   "outputs": [
    {
     "name": "stdout",
     "output_type": "stream",
     "text": [
      "{'sentence_corr_txt_grammar': ' 나는 나의 멋진 모습을 물고기들과 사람들에게 보여주고 있었다.', 'sentence_corr_reason': ['', ''], 'sentence_id': '0010', 'sentence_corr_type': ['문법', '문법'], 'sentence_corr_detail_type': ['어미', '기타'], 'sentence_txt': ' 나는 나의 멋진 모습을 물고기들과 사람들에게 보여주고 있는데...', 'sentence_corr_txt_styling': '', 'paragraph_id': '001'}\n",
      "\n",
      "{'sentence_corr_txt_grammar': ' 사실 이곳은 가상 세계가 아닐까. 그치 내가 바다 생물이 될 수 있다고 한 것부터 이상했다.', 'sentence_corr_reason': ['', '', ''], 'sentence_id': '0029', 'sentence_corr_type': ['문법', '문법', '문법'], 'sentence_corr_detail_type': ['기타', '맞춤법', '어미'], 'sentence_txt': ' 사실 이곳은 가상 세계가 아닐까 그치 내가 바다 생물이 될 수 있다고 한거부터 이상하긴 했어', 'sentence_corr_txt_styling': '', 'paragraph_id': '001'}\n",
      "\n",
      "{'sentence_corr_txt_grammar': '근데 다른 물고기들은 상어만 피했습니다.', 'sentence_corr_reason': ['', ''], 'sentence_id': '0012', 'sentence_corr_type': ['문법', '문법'], 'sentence_corr_detail_type': ['맞춤법', '어미'], 'sentence_txt': '근데 다른 물고기들은 상어만 피하는거입니다.', 'sentence_corr_txt_styling': '', 'paragraph_id': '001'}\n",
      "\n",
      "{'sentence_corr_txt_grammar': ' 그래서 상어와 상어의 친구들은 바로 가서 하지마 괴롭히지 말라고 했습니다.', 'sentence_corr_reason': ['', '', '', ''], 'sentence_id': '0014', 'sentence_corr_type': ['문법', '문법', '문법', '스타일링'], 'sentence_corr_detail_type': ['맞춤법', '조사', '어미', '패러프레이징'], 'sentence_txt': ' 그래서 상어와상어의친구들을 바로 가서 하지마 괴롭히지마라고했습니다.', 'sentence_corr_txt_styling': ' 그래서 상어와 상어의 친구들은 바로 가서 하지마 괴롭히지 말라고 했습니다.', 'paragraph_id': '001'}\n",
      "\n",
      "{'sentence_corr_txt_grammar': ' 엘리가 며칠동안 수소문해서 알아왔는데 그건 못된 문어 마녀가 한 짓이라고 한다.', 'sentence_corr_reason': ['', '', '', ''], 'sentence_id': '0018', 'sentence_corr_type': ['문법', '문법', '문법', '스타일링'], 'sentence_corr_detail_type': ['맞춤법', '조사', '어미', '담화 맥락 오류'], 'sentence_txt': ' 엘리가 몇일동안 수소문해서 알아 왔는데 그건 못된 문어 마녀를 한 짓 이라한다.', 'sentence_corr_txt_styling': ' 엘리가 며칠동안 수소문해서 알아왔는데 그건 못된 문어 마녀가 한 짓이라고 한다.', 'paragraph_id': '001'}\n",
      "\n",
      "{'sentence_corr_txt_grammar': '이제 배가 불러. 헤엄을쳐 물고기와 인사도 하고 물 위로 올라가서 숨도 쉬고 평화로웠지.', 'sentence_corr_reason': ['', '', ''], 'sentence_id': '0007', 'sentence_corr_type': ['문법', '문법', '문법'], 'sentence_corr_detail_type': ['맞춤법', '기타', '어미'], 'sentence_txt': '이재 배가 불러 헤엄을쳐 물고기와 인사도 하고 물위로 올라가서 숨도쉬지 평화로었지', 'sentence_corr_txt_styling': '', 'paragraph_id': '001'}\n",
      "\n",
      "{'sentence_corr_txt_grammar': ' 왜냐하면 내 마음대로 몸의 색을 바꾸고, 좁은바위 틈 사이에 들어가서 나를 보호하여 생활할 수 있고, 긴 다리를 이용하여 편리하게 이동하며 즐겁게 생활할 수 있을 것 같기 때문입니다.', 'sentence_corr_reason': ['', '', '', ''], 'sentence_id': '0002', 'sentence_corr_type': ['문법', '문법', '문법', '스타일링'], 'sentence_corr_detail_type': ['맞춤법', '어미', '기타', '패러프레이징'], 'sentence_txt': ' 왜냐하면 내 마음대로 몸의 색을 바꾸고, 좁은바위 틈 사이에 들어가여 나를 보호하여 생활할수있고 긴다리를 이용하여 편리하게 이동하며 즐겁게 생활할수 있을거 같기 때문입니다.', 'sentence_corr_txt_styling': ' 왜냐하면 내 마음대로 몸의 색을 바꾸고, 좁은바위 틈 사이에 들어가서 나를 보호하여 생활할 수 있고, 긴 다리를 이용하여 편리하게 이동하며 즐겁게 생활할 수 있을 것 같기 때문입니다.', 'paragraph_id': '001'}\n",
      "\n",
      "{'sentence_corr_txt_grammar': '\\n 내가 문어가 되어 생활한다면 안정적인 모험보다는 활동적이고 심장 쫄리는 스펙타클한 모험을 해 보고 싶다.', 'sentence_corr_reason': ['띄어쓰기', ''], 'sentence_id': '0003', 'sentence_corr_type': ['문법', '문법'], 'sentence_corr_detail_type': ['맞춤법', '어미'], 'sentence_txt': '\\n 내가 문어가되어 생활한다면 안정적인 모험보다는 활동적이고 심장쫄리는 스펙타클한 모험을 해보고 싶습니다.', 'sentence_corr_txt_styling': '', 'paragraph_id': '001'}\n",
      "\n",
      "{'sentence_corr_txt_grammar': ' 때론 적을 만나서 먹물을 뿜고 색을 바꾸어 숨으며 적을 따돌리는 일도 해 보고 싶고 또다른 문어친구를 만나서 같이 어울리는 일도 해 보고 싶습니다.', 'sentence_corr_reason': ['띄어쓰기', ''], 'sentence_id': '0004', 'sentence_corr_type': ['문법', '문법'], 'sentence_corr_detail_type': ['맞춤법', '어미'], 'sentence_txt': ' 때론 적을 만나서 먹물을 뿜고 색을 바꾸어 숨으며 적을 따돌리는 일도 해보고 싶은 또다른 문어친구를 만나서 같이 어울리는 일도 해보고 싶습니다.', 'sentence_corr_txt_styling': '', 'paragraph_id': '001'}\n",
      "\n",
      "{'sentence_corr_txt_grammar': ' \\n 여기 문어친구가 자유롭고 여유롭게 돌아다니고 있다.', 'sentence_corr_reason': ['', ''], 'sentence_id': '0005', 'sentence_corr_type': ['문법', '문법'], 'sentence_corr_detail_type': ['어미', '기타'], 'sentence_txt': ' \\n 여기 문어친구가 자유롭고 여유롭게 돌아다니고 있네요!', 'sentence_corr_txt_styling': '', 'paragraph_id': '001'}\n",
      "\n",
      "{'sentence_corr_txt_grammar': ' 오늘은 이 문어를 따라서 바다탐험과 문어의 생활을 탐구해 보자.', 'sentence_corr_reason': ['', '', '', ''], 'sentence_id': '0006', 'sentence_corr_type': ['문법', '문법', '문법', '스타일링'], 'sentence_corr_detail_type': ['맞춤법', '어미', '기타', '패러프레이징'], 'sentence_txt': ' 오늘은 이 문어를 따라서 바다탐험과 문어의 생활을 탐구 해 보아요.', 'sentence_corr_txt_styling': ' 오늘은 이 문어를 따라서 바다탐험과 문어의 생활을 탐구해 보자.', 'paragraph_id': '001'}\n",
      "\n",
      "{'sentence_corr_txt_grammar': ' 나는 문어야.', 'sentence_corr_reason': ['', ''], 'sentence_id': '0007', 'sentence_corr_type': ['문법', '문법'], 'sentence_corr_detail_type': ['어미', '기타'], 'sentence_txt': ' 나는 문어!', 'sentence_corr_txt_styling': '', 'paragraph_id': '001'}\n",
      "\n",
      "{'sentence_corr_txt_grammar': '우리가 살고있는 지구 이지구는 굉장히 넓어서 우리가 잘 알지 못하는 생물도 같이 지구에 존재합니다', 'sentence_corr_reason': ['', '', ''], 'sentence_id': '0001', 'sentence_corr_type': ['문법', '스타일링', '스타일링'], 'sentence_corr_detail_type': ['어미', '담화 맥락 오류', '패러프레이징'], 'sentence_txt': '우리가 살고있는 지구 이지구는 굉장히 넓은데 우리가 잘 알지 못하는 생물도 같이 지구에 존재합니다', 'sentence_corr_txt_styling': '우리가 살고있는 지구 이지구는 굉장히 넓어서 우리가 잘 알지 못하는 생물도 같이 지구에 존재합니다', 'paragraph_id': '001'}\n",
      "\n",
      "{'sentence_corr_txt_grammar': ' 그리고 바다 속에서 다른 돌고래들이 하지 못하는 것도 해낼 것이며 운동도 하고 여행도 떠나고 바다 속에서 술래잡기도 할 것입니다. 많은 것들을 하며 일주일 동안 바다 속에서 해보지 못했던 것을 할 것입니다.', 'sentence_corr_reason': ['', '', '', '띄어쓰기'], 'sentence_id': '0010', 'sentence_corr_type': ['문법', '문법', '문법', '문법'], 'sentence_corr_detail_type': ['조사', '어미', '기타', '맞춤법'], 'sentence_txt': ' 그리고 바다 속에서 다른 돌고래들이 하지 못하는 것도 해낼 것이며 운동도 하고 여행도 떠나고 바다 속에서 술래잡기도 하고.. 많은 것들을 하며 일주일동안 바다 속에서 해보지 못했던 것을 할 것입니다.', 'sentence_corr_txt_styling': '', 'paragraph_id': '001'}\n",
      "\n",
      "{'sentence_corr_txt_grammar': '\\n 왜냐하면 첫째, 얼마전에 돌고래에 관한 영상을 봤기 때문이다. ', 'sentence_corr_reason': ['', ''], 'sentence_id': '0002', 'sentence_corr_type': ['문법', '문법'], 'sentence_corr_detail_type': ['어미', '기타'], 'sentence_txt': '\\n 왜냐하면 첫째, 얼마전에 돌고래에 관한 영상을 봤다. ', 'sentence_corr_txt_styling': '', 'paragraph_id': '001'}\n",
      "\n",
      "{'sentence_corr_txt_grammar': '\\n 둘째, 돌고래는 무리를 지어 바닷속을 다니기 때문이다.', 'sentence_corr_reason': ['', ''], 'sentence_id': '0004', 'sentence_corr_type': ['문법', '문법'], 'sentence_corr_detail_type': ['맞춤법', '어미'], 'sentence_txt': '\\n 둘째, 돌고래는 무리를 지어 바다속을 다닌다.', 'sentence_corr_txt_styling': '', 'paragraph_id': '001'}\n",
      "\n",
      "{'sentence_corr_txt_grammar': '말만 해적이지 엄청난 신식무기를 다 갖추고 있으며 설원의 선원의 이름은 민찬, 윤태, 치훈, 도영이고 선장은 틀딱DDD씨인데 아까 먹었다.', 'sentence_corr_reason': ['', '', '', ''], 'sentence_id': '0007', 'sentence_corr_type': ['문법', '문법', '문법', '스타일링'], 'sentence_corr_detail_type': ['맞춤법', '조사', '어미', '기타'], 'sentence_txt': '말만 해적이지 엄청난 신식무기를 다 갖추고 있으며 설원의 선원의 이름은 민찬,윤태,치훈,도영 그리고 선장은 틀딱DDD씨인데 아까 먹었다.', 'sentence_corr_txt_styling': '말만 해적이지 엄청난 신식무기를 다 갖추고 있으며 설원의 선원의 이름은 민찬, 윤태, 치훈, 도영이고 선장은 틀딱DDD씨인데 아까 먹었다.', 'paragraph_id': '001'}\n",
      "\n",
      "{'sentence_corr_txt_grammar': '이제서서히 인간들이 오기 시작한다.', 'sentence_corr_reason': ['', ''], 'sentence_id': '0030', 'sentence_corr_type': ['문법', '문법'], 'sentence_corr_detail_type': ['맞춤법', '어미'], 'sentence_txt': '이제서서히 인간들이 오기시작했다.', 'sentence_corr_txt_styling': '', 'paragraph_id': '001'}\n",
      "\n",
      "{'sentence_corr_txt_grammar': ' 나는 겁이 많아 혼자 돌아다니는 것을 못하니 안전하게 가족들과 같이 여러 곳을 다니며 다른 생물도 만나 놀기도 하고, 배가 고플 수 있으니 밥도 잘 먹을 것 같다.', 'sentence_corr_reason': [''], 'sentence_id': '0003', 'sentence_corr_type': ['문법'], 'sentence_corr_detail_type': ['어미'], 'sentence_txt': ' 나는 겁이 많아 혼자 돌아다니는 것을 못하고, 안전하게 가족들과 같이 여러 곳을 다니며 다른 생물도 만나 놀기도 하고, 배가 고플 수 있으니 밥도 잘 먹을 것 같다.', 'sentence_corr_txt_styling': '', 'paragraph_id': '001'}\n",
      "\n",
      "{'sentence_corr_txt_grammar': '근데 아주머니가 물고기 모양의 쿠키를 주며 나가라고 했다. ', 'sentence_corr_reason': [''], 'sentence_id': '0003', 'sentence_corr_type': ['문법'], 'sentence_corr_detail_type': ['어미'], 'sentence_txt': '근데 아주머니가 물고기 모양의 쿠키를 주고 나가라고 했다. ', 'sentence_corr_txt_styling': '', 'paragraph_id': '001'}\n",
      "\n",
      "{'sentence_corr_txt_grammar': '너무나 당황했지만 쿠키를 먹었더니 참 맛있었다.', 'sentence_corr_reason': ['', ''], 'sentence_id': '0005', 'sentence_corr_type': ['문법', '문법'], 'sentence_corr_detail_type': ['어미', '시제'], 'sentence_txt': '너무나 당황해 쿠키를 먹었더니 참 맛있었다.', 'sentence_corr_txt_styling': '', 'paragraph_id': '001'}\n",
      "\n",
      "{'sentence_corr_txt_grammar': ' 그래서 잠시 기절했다 일어나보니 바다였다.', 'sentence_corr_reason': ['', '', ''], 'sentence_id': '0008', 'sentence_corr_type': ['문법', '문법', '문법'], 'sentence_corr_detail_type': ['어미', '시제', '기타'], 'sentence_txt': ' 그래서 잠시 기절하고 일어나보니 바다였다...', 'sentence_corr_txt_styling': '', 'paragraph_id': '001'}\n",
      "\n",
      "{'sentence_corr_txt_grammar': ' \"응. 우리 엄마는 좀 특별한 사람 눈에만 보이고 나도 마찬가지야. 그 가게를 들어가면 쿠키주고 나가라 그래. 거기 오래 있으면 다른 사람들도 볼 수 있거든\"', 'sentence_corr_reason': ['', '', ''], 'sentence_id': '0016', 'sentence_corr_type': ['문법', '문법', '문법'], 'sentence_corr_detail_type': ['맞춤법', '기타', '어미'], 'sentence_txt': ' 웅 우리 엄마는 좀 특별한 사람눈에만 보이고 나도 마찬가지 그가게를 들어가면 쿠키주고 나가라 그래 거기 오래 있으면 다른 사람들도 볼수 있거든“', 'sentence_corr_txt_styling': '', 'paragraph_id': '001'}\n",
      "\n",
      "{'sentence_corr_txt_grammar': '인간으로 태어난 것을 감사히 여겨야겠다.', 'sentence_corr_reason': ['', ''], 'sentence_id': '0010', 'sentence_corr_type': ['문법', '문법'], 'sentence_corr_detail_type': ['어미', '기타'], 'sentence_txt': '인간으로 태어난 것을 감사히 여기어야 하겠다.', 'sentence_corr_txt_styling': '', 'paragraph_id': '001'}\n",
      "\n",
      "{'sentence_corr_txt_grammar': ' 산호가 있는 바다는 예쁘고 맑습니다.', 'sentence_corr_reason': [''], 'sentence_id': '0007', 'sentence_corr_type': ['문법'], 'sentence_corr_detail_type': ['어미'], 'sentence_txt': ' 산호가 있는 바다는 예쁘면서 맑습니다.', 'sentence_corr_txt_styling': '', 'paragraph_id': '001'}\n",
      "\n",
      "{'sentence_corr_txt_grammar': ' 도리는 겁쟁이이면서 쫄보여서 먼저 튀었습니다. ', 'sentence_corr_reason': [''], 'sentence_id': '0016', 'sentence_corr_type': ['문법'], 'sentence_corr_detail_type': ['어미'], 'sentence_txt': ' 도리는 겁쟁이이면서 쫄보이어서 먼저 튀었습니다. ', 'sentence_corr_txt_styling': '', 'paragraph_id': '001'}\n",
      "\n",
      "{'sentence_corr_txt_grammar': '요즘엔 인간들이 날 찾더군. 날 찾는 건 좋지만 바다에 쓰레기 좀 버리지 마.', 'sentence_corr_reason': ['', '', '띄어쓰기'], 'sentence_id': '0008', 'sentence_corr_type': ['문법', '문법', '문법'], 'sentence_corr_detail_type': ['기타', '어미', '맞춤법'], 'sentence_txt': '요즘엔 인간들이 날 찾더군 나 찾는건 좋지만 바다에 쓰레기좀 버리지마!', 'sentence_corr_txt_styling': '', 'paragraph_id': '001'}\n",
      "\n",
      "{'sentence_corr_txt_grammar': ' 일어나보니 안개가 낀 것처럼 뿌였고 몸은 으슬으슬하고 주변을 둘러보니 3~4개정도의 거대한 돌이 있었습니다.', 'sentence_corr_reason': ['띄어쓰기', '', ''], 'sentence_id': '0003', 'sentence_corr_type': ['문법', '문법', '문법'], 'sentence_corr_detail_type': ['맞춤법', '어미', '기타'], 'sentence_txt': ' 일어나보니 안개가 낀것처럼 뿌였고 몸은 으슬으슬하고 주변을 둘러보니 3~4개정도의 거대한돌이 있었죠', 'sentence_corr_txt_styling': '', 'paragraph_id': '001'}\n",
      "\n",
      "{'sentence_corr_txt_grammar': ' 한 번 만져보려다가 누군가 소리쳤습니다.', 'sentence_corr_reason': ['띄어쓰기', '', ''], 'sentence_id': '0004', 'sentence_corr_type': ['문법', '문법', '문법'], 'sentence_corr_detail_type': ['맞춤법', '어미', '기타'], 'sentence_txt': ' 한번 만져보려다가 누군가 소리쳤어요', 'sentence_corr_txt_styling': '', 'paragraph_id': '001'}\n",
      "\n",
      "{'sentence_corr_txt_grammar': '그래서 전 바로 뒤로 물러섰고 사람들의 비명이 들렸습니다.', 'sentence_corr_reason': ['', '', ''], 'sentence_id': '0006', 'sentence_corr_type': ['문법', '문법', '문법'], 'sentence_corr_detail_type': ['맞춤법', '어미', '기타'], 'sentence_txt': '그래서 전 바로 뒤로물러서자 사람들의 비명이 들렸어요', 'sentence_corr_txt_styling': '', 'paragraph_id': '001'}\n",
      "\n",
      "{'sentence_corr_txt_grammar': ' 알고보니 이건 거대한 빙산이었던 것입니다.', 'sentence_corr_reason': ['', ''], 'sentence_id': '0007', 'sentence_corr_type': ['문법', '문법'], 'sentence_corr_detail_type': ['어미', '기타'], 'sentence_txt': ' 알고보니 이건 거대한 빙산이었던 것이에요.', 'sentence_corr_txt_styling': '', 'paragraph_id': '001'}\n",
      "\n",
      "{'sentence_corr_txt_grammar': '전 부들부들 떨면서 마음을 다잡았습니다.', 'sentence_corr_reason': ['띄어쓰기', '', ''], 'sentence_id': '0008', 'sentence_corr_type': ['문법', '문법', '문법'], 'sentence_corr_detail_type': ['맞춤법', '어미', '기타'], 'sentence_txt': '전부들부들 떨면서 마음을 잡았어요.', 'sentence_corr_txt_styling': '', 'paragraph_id': '001'}\n",
      "\n",
      "{'sentence_corr_txt_grammar': ' 하늘에선 날치가 위에서 따뜻한 물을 뿌리고 고래는 따뜻한 물을 담아 뿜어내고 돌고래는 산소주머니 같은 걸 쓰고 사람들에게 씌워주고 다시 사람들을 데리고 나가고를 계속 반복하다가 한 빙산이 녹아 제쪽으로 떨어졌습니다.', 'sentence_corr_reason': ['띄어쓰기', '', '', ''], 'sentence_id': '0010', 'sentence_corr_type': ['문법', '문법', '문법', '문법'], 'sentence_corr_detail_type': ['맞춤법', '조사', '어미', '기타'], 'sentence_txt': ' 하늘에선 날치가 위에서 따뜻한물을뿌리고 고래는 따뜻한 물을 담아 뿜어내고 돌고래는 산소주머니? 같은걸 쓰고 사람들에게 씌어주고 다시 사람들을 데리고 나가고 계속반복하다가 한 빙산이 녹아 제쪽으로 떨어졌어요', 'sentence_corr_txt_styling': '', 'paragraph_id': '001'}\n",
      "\n",
      "{'sentence_corr_txt_grammar': ' 하류에서 상류로 오느라 힘은없고 엎친 데 덮친 격으로 앞에 곰이 있었습니다.', 'sentence_corr_reason': ['', '', '', '', ''], 'sentence_id': '0015', 'sentence_corr_type': ['문법', '문법', '문법', '문법', '문법'], 'sentence_corr_detail_type': ['맞춤법', '조사', '어미', '시제', '기타'], 'sentence_txt': ' 하류에서 상류로 그런데 힘은없고 업친데 덮친격 앞에 곰이 있는거에요.', 'sentence_corr_txt_styling': '', 'paragraph_id': '001'}\n",
      "\n",
      "{'sentence_corr_txt_grammar': ' 알고보니 지금은 연어가 고향으로 와 알을 낳는 시기였던 것입니다.', 'sentence_corr_reason': ['', '', '', '', ''], 'sentence_id': '0016', 'sentence_corr_type': ['문법', '문법', '문법', '문법', '문법'], 'sentence_corr_detail_type': ['맞춤법', '조사', '어미', '시제', '기타'], 'sentence_txt': ' 알고보니 지금은 연어의고향으로와 알을낳는 시기인거죠', 'sentence_corr_txt_styling': '', 'paragraph_id': '001'}\n",
      "\n",
      "{'sentence_corr_txt_grammar': ' 뒤를봤는데 수백마리의 연어들이 보이고 옛 친구도 만나고 힘을 모아 헤쳐나가려 했습니다. 갑자기 곰이 저를 잡으려고 해서 친구가 저 대신 뛰어들었습니다. 저는 그친구몫까지 살아야겠다 다짐하고선 제가 태어난 곳에서 편하고 온 죽음을 맞이했답니다.', 'sentence_corr_reason': ['', '띄어쓰기', '', '띄어쓰기', ''], 'sentence_id': '0017', 'sentence_corr_type': ['문법', '문법', '문법', '문법', '스타일링'], 'sentence_corr_detail_type': ['기타', '맞춤법', '어미', '조사', '담화 맥락 오류'], 'sentence_txt': ' 뒤를봤는데 수백마리의 연어들이 보이고 옛적친구도 만나고 힘을모아 해쳐나가는데 갑자기곰이 저를 잡으려고 할때 친구가 저대신 뛰어들어서 저는 그친구몫까지 살아야겠다 다짐하고선 제가 태어난 곳에서 편하고 온 죽음을 맞이했답니다.', 'sentence_corr_txt_styling': ' 뒤를봤는데 수백마리의 연어들이 보이고 옛 친구도 만나고 힘을 모아 헤쳐나가려 했습니다. 갑자기 곰이 저를 잡으려고 해서 친구가 저 대신 뛰어들었습니다. 저는 그친구몫까지 살아야겠다 다짐하고선 제가 태어난 곳에서 편하고 온 죽음을 맞이했답니다.', 'paragraph_id': '001'}\n",
      "\n",
      "{'sentence_corr_txt_grammar': ' 그 속에는 아주 많고 신기한 생물들이 무수히 많이 살고 있다. 내가 바다에서 딱 일주일 동안 산다면 아주 예쁘고 투명한 해파리가 되고 싶다.', 'sentence_corr_reason': ['', ''], 'sentence_id': '0002', 'sentence_corr_type': ['문법', '문법'], 'sentence_corr_detail_type': ['맞춤법', '어미'], 'sentence_txt': ' 그 속에는 아주 많고 신기한 생물들이 무수히 많이 살고있는데 내가 바다에서 딱 일주일 동안 산다면 아주 예쁘고 투명한 해파리가 되고 싶다.', 'sentence_corr_txt_styling': '', 'paragraph_id': '001'}\n",
      "\n",
      "{'sentence_corr_txt_grammar': ' 문어, 오징어와 헤어질 뻔 했지만 큰 고비를 넘기고 고래 생일파티에 무사히 도착했어.', 'sentence_corr_reason': ['', ''], 'sentence_id': '0040', 'sentence_corr_type': ['문법', '문법'], 'sentence_corr_detail_type': ['어미', '기타'], 'sentence_txt': ' 문어, 오징어와 헤어질 뻔 했지만 큰 고비를 넘기고 고래 생일파티에 무사히 도착 !', 'sentence_corr_txt_styling': '', 'paragraph_id': '001'}\n",
      "\n",
      "{'sentence_corr_txt_grammar': ' 나는 투명하고 보라색이야.', 'sentence_corr_reason': ['', '', ''], 'sentence_id': '0003', 'sentence_corr_type': ['문법', '문법', '문법'], 'sentence_corr_detail_type': ['조사', '어미', '기타'], 'sentence_txt': ' 나는 투명색에다 보라색이야', 'sentence_corr_txt_styling': '', 'paragraph_id': '001'}\n",
      "\n",
      "{'sentence_corr_txt_grammar': '친구와 사냥을 가려고 준비를 하던 어느 날 내 머리 위로 거울 하나가 떨어졌다. ', 'sentence_corr_reason': [''], 'sentence_id': '0007', 'sentence_corr_type': ['문법'], 'sentence_corr_detail_type': ['어미'], 'sentence_txt': '친구와 사냥을 가려고 준비를 하는 어느 날 내 머리 위로 거울 하나가 떨어졌다. ', 'sentence_corr_txt_styling': '', 'paragraph_id': '001'}\n",
      "\n",
      "{'sentence_corr_txt_grammar': '소녀는 신께 감사하다고 한 뒤, 통로로 들어갔습니다. ', 'sentence_corr_reason': ['띄어쓰기', '', ''], 'sentence_id': '0027', 'sentence_corr_type': ['문법', '문법', '문법'], 'sentence_corr_detail_type': ['맞춤법', '어미', '기타'], 'sentence_txt': '소녀는 신께 감사하다고 한뒤, 통로로 들어갔어요… ', 'sentence_corr_txt_styling': '', 'paragraph_id': '001'}\n",
      "\n",
      "{'sentence_corr_txt_grammar': '가면서 배고프니 사냥도 하고 다시 헤엄치기를 계속 반복해서 드디어 따뜻한 바다에 도착했다. 이제 상어친구랑 같이 보금자리를 찾아야 한다.', 'sentence_corr_reason': ['', '', '', ''], 'sentence_id': '0011', 'sentence_corr_type': ['문법', '문법', '문법', '문법'], 'sentence_corr_detail_type': ['조사', '어미', '시제', '기타'], 'sentence_txt': '가면서 배고프니 사냥도 하고 다시 헤엄치고 계속 반복해서 드디어 따뜻한 바다에 도착 이제 상어친구랑 같이 보금자리를 찾아야 한다.', 'sentence_corr_txt_styling': '', 'paragraph_id': '001'}\n",
      "\n",
      "{'sentence_corr_txt_grammar': '\\n상어가 된 나는 바닷속 깊은 곳에 있는 금과 보물, 바닷속에 가라앉은 배를 찾으러 떠날 것이다.', 'sentence_corr_reason': ['띄어쓰기', '', '', '', ''], 'sentence_id': '0003', 'sentence_corr_type': ['문법', '문법', '문법', '스타일링', '스타일링'], 'sentence_corr_detail_type': ['맞춤법', '조사', '어미', '담화 맥락 오류', '패러프레이징'], 'sentence_txt': '\\n상어가 된 나는 바닷속 깊은곳에 있는 금과 보물, 바다속에 가라앉읒 배를 찾으러 떠났어요.', 'sentence_corr_txt_styling': '\\n상어가 된 나는 바닷속 깊은 곳에 있는 금과 보물, 바닷속에 가라앉은 배를 찾으러 떠날 것이다.', 'paragraph_id': '001'}\n",
      "\n",
      "{'sentence_corr_txt_grammar': ' 심해도 구경할 수 있고 미생물은 작으니까 작아지는 경험도 해 보고 싶기 때문이다.', 'sentence_corr_reason': ['', '띄어쓰기'], 'sentence_id': '0005', 'sentence_corr_type': ['문법', '문법'], 'sentence_corr_detail_type': ['어미', '맞춤법'], 'sentence_txt': ' 심해도 구경할 수 있고 미생물은 작으니까 작아진 경험도 해보고 싶기 때문이다.', 'sentence_corr_txt_styling': '', 'paragraph_id': '001'}\n",
      "\n",
      "{'sentence_corr_txt_grammar': ' 돌고래들의 춤도 보면서 가니까 너무 기뻐.', 'sentence_corr_reason': ['', ''], 'sentence_id': '0013', 'sentence_corr_type': ['문법', '문법'], 'sentence_corr_detail_type': ['어미', '기타'], 'sentence_txt': ' 돌고래들의 춤도 보며 가니까 너무 기뻐', 'sentence_corr_txt_styling': '', 'paragraph_id': '001'}\n",
      "\n"
     ]
    }
   ],
   "source": [
    "type_list = []\n",
    "count_correction = 0\n",
    "for i in range(1200):\n",
    "    with open(json_list[i]) as data_file:\n",
    "        sample_data = json.load(data_file)\n",
    "        try:\n",
    "            # dictionary 형태로 되어있는 경우\n",
    "            if sample_data['correction']['sentence_corr_txt_grammar'] == '':\n",
    "                pass\n",
    "            else:\n",
    "                print('t:',i)\n",
    "        except:\n",
    "            # 배열 형태로 되어있는 경우\n",
    "            #print(sample_data['correction'])\n",
    "            count_correction+=1\n",
    "            for j in range(len(sample_data['correction'])):\n",
    "                now_sample = sample_data['correction'][j]\n",
    "                \n",
    "                for k in range(len(now_sample['sentence_corr_type'])):\n",
    "                    corr_type = now_sample['sentence_corr_type'][k]\n",
    "                    corr_detail_type = now_sample['sentence_corr_detail_type'][k]\n",
    "                    corr_reason = now_sample['sentence_corr_reason'][k]\n",
    "                    type_list.append(f'{corr_type}_{corr_detail_type}_{corr_reason}')\n",
    "                    if f'{corr_type}_{corr_detail_type}_{corr_reason}' == '문법_어미_':\n",
    "                        print(now_sample)\n",
    "                        print()"
   ]
  },
  {
   "cell_type": "code",
   "execution_count": 80,
   "id": "462af9db",
   "metadata": {},
   "outputs": [
    {
     "data": {
      "text/plain": [
       "47"
      ]
     },
     "execution_count": 80,
     "metadata": {},
     "output_type": "execute_result"
    }
   ],
   "source": [
    "count_correction\n"
   ]
  },
  {
   "cell_type": "code",
   "execution_count": 81,
   "id": "78d0772e",
   "metadata": {},
   "outputs": [],
   "source": [
    "type_df = {}"
   ]
  },
  {
   "cell_type": "code",
   "execution_count": 82,
   "id": "d008a9c6",
   "metadata": {},
   "outputs": [],
   "source": [
    "for _type in type_list:\n",
    "    try:\n",
    "        type_df[_type] +=1\n",
    "    except:\n",
    "        type_df[_type]=1"
   ]
  },
  {
   "cell_type": "code",
   "execution_count": 83,
   "id": "b7c6ef9f",
   "metadata": {
    "scrolled": false
   },
   "outputs": [
    {
     "name": "stdout",
     "output_type": "stream",
     "text": [
      "문법_맞춤법_\n",
      "문법_기타_\n",
      "스타일링_기타_\n",
      "문법_맞춤법_띄어쓰기\n",
      "문법_조사_\n",
      "문법_기타_중복\n",
      "스타일링_패러프레이징_\n",
      "스타일링_담화 맥락 오류_\n",
      "문법_어미_\n",
      "문법_시제_\n",
      "문법_기타_불필요\n",
      "스타일링_담화 맥락 오류_맞춤법, 문장 길이, 어미 통일 문제, 문장부호 등 총체적 난국이라 전면 수정 필요\n",
      "스타일링_패러프레이징_맞춤법, 문장 길이, 어미 통일 문제, 문장부호 등 총체적 난국이라 전면 수정 필요\n",
      "스타일링_기타_맞춤법, 문장 길이, 어미 통일 문제, 문장부호 등 총체적 난국이라 전면 수정 필요\n",
      "문법_어순_\n",
      "문법_기타_주어 필요\n",
      "문법_시제_띄어쓰기, 시제\n",
      "문법_기타_문장부호\n",
      "문법_조사_띄어쓰기\n",
      "스타일링_기타_불필요\n",
      "...\n"
     ]
    }
   ],
   "source": [
    "for tt in type_df.keys():\n",
    "    print(tt)\n",
    "print('...')\n",
    "# 패러프레이징과 원래 문장 같다."
   ]
  },
  {
   "cell_type": "code",
   "execution_count": null,
   "id": "93494465",
   "metadata": {},
   "outputs": [],
   "source": []
  },
  {
   "cell_type": "code",
   "execution_count": null,
   "id": "73c37b23",
   "metadata": {},
   "outputs": [],
   "source": []
  },
  {
   "cell_type": "code",
   "execution_count": null,
   "id": "925e3518",
   "metadata": {},
   "outputs": [],
   "source": []
  },
  {
   "cell_type": "code",
   "execution_count": null,
   "id": "90dfb7b8",
   "metadata": {},
   "outputs": [],
   "source": []
  }
 ],
 "metadata": {
  "kernelspec": {
   "display_name": "Python 3 (ipykernel)",
   "language": "python",
   "name": "python3"
  },
  "language_info": {
   "codemirror_mode": {
    "name": "ipython",
    "version": 3
   },
   "file_extension": ".py",
   "mimetype": "text/x-python",
   "name": "python",
   "nbconvert_exporter": "python",
   "pygments_lexer": "ipython3",
   "version": "3.7.11"
  }
 },
 "nbformat": 4,
 "nbformat_minor": 5
}
