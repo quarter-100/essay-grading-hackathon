{
 "cells": [
  {
   "cell_type": "code",
   "execution_count": 1,
   "id": "a17e3100",
   "metadata": {},
   "outputs": [],
   "source": [
    "import pandas as pd\n",
    "import numpy as np\n",
    "import seaborn as sns\n",
    "import matplotlib.pyplot as plt\n",
    "plt.rc('font',family = 'NanumBarunGothic')"
   ]
  },
  {
   "cell_type": "code",
   "execution_count": 2,
   "id": "4c6944aa",
   "metadata": {},
   "outputs": [],
   "source": [
    "df = pd.read_csv('./final_data_v2.csv')"
   ]
  },
  {
   "cell_type": "code",
   "execution_count": 3,
   "id": "e5b2e3ea",
   "metadata": {},
   "outputs": [
    {
     "data": {
      "text/plain": [
       "Index(['paragraph_txt', 'essay_level', 'student_grade_group', 'org_paragraph',\n",
       "       'org', 'org_essay', 'org_coherence', 'org_quantity', 'con_novelty',\n",
       "       'con_clearance', 'con', 'con_prompt', 'con_description', 'exp_style',\n",
       "       'exp_grammar', 'exp', 'exp_vocab', 'essay_grade', 'essay_main_subject',\n",
       "       'punctuation_marks', 'ending_of_a_word', 'word_order', 'diff',\n",
       "       'Rouge_l_f1', 'paragraph_scoreT_avg'],\n",
       "      dtype='object')"
      ]
     },
     "execution_count": 3,
     "metadata": {},
     "output_type": "execute_result"
    }
   ],
   "source": [
    "df.columns"
   ]
  },
  {
   "cell_type": "code",
   "execution_count": 12,
   "id": "bda0dcb0",
   "metadata": {},
   "outputs": [
    {
     "data": {
      "image/png": "[encoded data removed]",
      "text/plain": [
       "<Figure size 1008x216 with 1 Axes>"
      ]
     },
     "metadata": {
      "needs_background": "light"
     },
     "output_type": "display_data"
    }
   ],
   "source": [
    "plt.subplots(figsize=(14,3))\n",
    "sns.countplot(x = 'essay_main_subject', data = df[df['essay_grade']=='고등_1학년'], palette='Set2');"
   ]
  },
  {
   "cell_type": "code",
   "execution_count": null,
   "id": "fc817ed8",
   "metadata": {},
   "outputs": [],
   "source": []
  }
 ],
 "metadata": {
  "kernelspec": {
   "display_name": "Python 3 (ipykernel)",
   "language": "python",
   "name": "python3"
  },
  "language_info": {
   "codemirror_mode": {
    "name": "ipython",
    "version": 3
   },
   "file_extension": ".py",
   "mimetype": "text/x-python",
   "name": "python",
   "nbconvert_exporter": "python",
   "pygments_lexer": "ipython3",
   "version": "3.7.11"
  }
 },
 "nbformat": 4,
 "nbformat_minor": 5
}
