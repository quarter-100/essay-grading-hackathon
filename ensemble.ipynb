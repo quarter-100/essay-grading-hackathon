{
 "cells": [
  {
   "cell_type": "code",
   "execution_count": 1,
   "source": [
    "import pandas as pd"
   ],
   "outputs": [],
   "metadata": {}
  },
  {
   "cell_type": "code",
   "execution_count": 35,
   "source": [
    "dl= pd.read_csv('./dl_logits.csv')\r\n",
    "light= pd.read_csv('./lightgbm_logits.csv')\r\n",
    "\r\n",
    "# print(dl['probs'].values)\r\n",
    "# print(light.values)\r\n",
    "prob_list= []\r\n",
    "for i in range(len(dl)):\r\n",
    "    tmp= list(map(float, dl['probs'].values[i][1:-1].split(',')))\r\n",
    "    prob_list.append(tmp)\r\n",
    "\r\n",
    "light_list= light.values\r\n",
    "print(light_list)"
   ],
   "outputs": [
    {
     "output_type": "stream",
     "name": "stdout",
     "text": [
      "[[0.52240994 0.18956558 0.14613629 0.14188818]\n",
      " [0.23079543 0.2994452  0.20696483 0.26279454]\n",
      " [0.1036028  0.33787529 0.21253159 0.34599033]\n",
      " ...\n",
      " [0.48706636 0.24146799 0.18973365 0.081732  ]\n",
      " [0.41378492 0.25357119 0.15466593 0.17797795]\n",
      " [0.5360509  0.23063704 0.14591899 0.08739306]]\n"
     ]
    }
   ],
   "metadata": {}
  },
  {
   "cell_type": "code",
   "execution_count": 42,
   "source": [
    "import numpy as np\r\n",
    "\r\n",
    "final_list= prob_list+ light_list\r\n",
    "preds= np.argmax(final_list, axis= 1)\r\n",
    "print(preds)"
   ],
   "outputs": [
    {
     "output_type": "stream",
     "name": "stdout",
     "text": [
      "[[-1.39187536  0.45678176  1.57823123  0.8348277 ]\n",
      " [ 2.56683998  0.34348985 -0.98988738 -0.38912441]\n",
      " [ 0.46758905  1.43808345  0.58068868 -0.97910688]\n",
      " ...\n",
      " [-1.59297267  0.1540776   0.99784835  1.67091199]\n",
      " [-1.37494213  0.44594412  1.11062639  1.31827048]\n",
      " [-1.43903412  0.29016684  1.33814159  1.2250916 ]]\n",
      "[2 0 1 ... 3 3 2]\n"
     ]
    }
   ],
   "metadata": {}
  },
  {
   "cell_type": "code",
   "execution_count": 47,
   "source": [
    "test_label= pd.read_csv('./final_test_y.csv')['label'].values\r\n",
    "test_label"
   ],
   "outputs": [
    {
     "output_type": "execute_result",
     "data": {
      "text/plain": [
       "array([3, 3, 3, ..., 0, 0, 0])"
      ]
     },
     "metadata": {},
     "execution_count": 47
    }
   ],
   "metadata": {}
  }
 ],
 "metadata": {
  "interpreter": {
   "hash": "d4d1e4263499bec80672ea0156c357c1ee493ec2b1c70f0acce89fc37c4a6abe"
  },
  "kernelspec": {
   "display_name": "Python 3.8.5 64-bit ('base': conda)",
   "language": "python",
   "name": "python3"
  },
  "language_info": {
   "codemirror_mode": {
    "name": "ipython",
    "version": 3
   },
   "file_extension": ".py",
   "mimetype": "text/x-python",
   "name": "python",
   "nbconvert_exporter": "python",
   "pygments_lexer": "ipython3",
   "version": "3.8.5"
  },
  "orig_nbformat": 4
 },
 "nbformat": 4,
 "nbformat_minor": 2
}