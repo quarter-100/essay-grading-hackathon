{
 "cells": [
  {
   "cell_type": "code",
   "execution_count": 81,
   "id": "c831b8da-4d98-4421-968d-83c7d88a512c",
   "metadata": {},
   "outputs": [],
   "source": [
    "import os\n",
    "import json\n",
    "import pandas as pd\n",
    "from pandas.io.json import json_normalize\n",
    "\n",
    "paragraph_txt_list = []\n",
    "essay_type_list = []\n",
    "student_grade_list = []\n",
    "paragraph_scoreT_avg_list = []\n",
    "\n",
    "#\"paragraph_txt\", \"essay_type\", \"student_grade\"\n",
    "path = './라벨링데이터'\n",
    "category_list = os.listdir(path)\n",
    "for category in category_list :\n",
    "    if category == \".DS_Store\" : continue\n",
    "    category_path = path + \"/\" + category\n",
    "    for file_dir in os.listdir(category_path) :\n",
    "        with open(category_path + \"/\" +file_dir, 'r') as outfile:\n",
    "            json_data = json.load(outfile)\n",
    "            paragraph_scoreT_avg_list.append(json_data['score']['paragraph_score'][0]['paragraph_scoreT_avg'])\n",
    "            paragraph_txt_list.append(json_data['paragraph'][0]['paragraph_txt'])\n",
    "            essay_type_list.append(file_dir.split(\"_\")[0])\n",
    "            student_grade_list.append(file_dir.split(\"_\")[1]+\"_\"+file_dir.split(\"_\")[2])"
   ]
  },
  {
   "cell_type": "code",
   "execution_count": 82,
   "id": "bd1e7b75-c681-48cd-b105-750d3bbe28e9",
   "metadata": {},
   "outputs": [],
   "source": [
    "df = pd.DataFrame({\"paragraph_txt\" : paragraph_txt_list, \"essay_type\" : essay_type_list, \"student_grade\" : student_grade_list, \"paragraph_scoreT_avg\" : paragraph_scoreT_avg_list})\n"
   ]
  },
  {
   "cell_type": "code",
   "execution_count": 123,
   "id": "f107e789-d2c0-4175-8249-ff8eb78942ae",
   "metadata": {},
   "outputs": [],
   "source": [
    "def replace_uni(text): \n",
    "    return text.replace(\"\\u3000\",\" \").replace(\"\\u200b\",\"\").replace(\"\\ufeff\",\"\").replace(\"\\u2009\",\"\").replace(\"‘\",\"\").replace(\"’\",\"\").replace(\"<span>\", \"\").replace(\"</span>\", \"\").replace(\"#@문장구분#\", \"\").replace(\"&nbsp;\", \" \").replace(\"\\u2019\",\"\").replace(\"&lt;\",\"\").replace(\"&gt;\",\"\").replace(\"amp;\",\"\")\n",
    "\n",
    "df['paragraph_txt'] = df['paragraph_txt'].apply(replace_uni)"
   ]
  },
  {
   "cell_type": "code",
   "execution_count": 124,
   "id": "04046e04-ac55-4bea-ab71-2cc4b5b81255",
   "metadata": {},
   "outputs": [
    {
     "data": {
      "text/html": [
       "<div>\n",
       "<style scoped>\n",
       "    .dataframe tbody tr th:only-of-type {\n",
       "        vertical-align: middle;\n",
       "    }\n",
       "\n",
       "    .dataframe tbody tr th {\n",
       "        vertical-align: top;\n",
       "    }\n",
       "\n",
       "    .dataframe thead th {\n",
       "        text-align: right;\n",
       "    }\n",
       "</style>\n",
       "<table border=\"1\" class=\"dataframe\">\n",
       "  <thead>\n",
       "    <tr style=\"text-align: right;\">\n",
       "      <th></th>\n",
       "      <th>paragraph_txt</th>\n",
       "      <th>essay_type</th>\n",
       "      <th>student_grade</th>\n",
       "      <th>paragraph_scoreT_avg</th>\n",
       "    </tr>\n",
       "  </thead>\n",
       "  <tbody>\n",
       "    <tr>\n",
       "      <th>0</th>\n",
       "      <td>나는 다수결을 반대한대 왜냐하면 이거를 싫어하는사람도분명히 있을텐데 다 수결로만해서...</td>\n",
       "      <td>찬성반대</td>\n",
       "      <td>초등_5학년</td>\n",
       "      <td>2.142857</td>\n",
       "    </tr>\n",
       "    <tr>\n",
       "      <th>1</th>\n",
       "      <td>교육을 받기를 원하는 사람이 있으면 딱히 받고 싶지 않은 사람이 있을 지도 모른다....</td>\n",
       "      <td>찬성반대</td>\n",
       "      <td>중등_1학년</td>\n",
       "      <td>3.000000</td>\n",
       "    </tr>\n",
       "    <tr>\n",
       "      <th>2</th>\n",
       "      <td>남한과 북한의 통일은 너무너무 복잡한 일이라고 생각합니다. 우리는 북한과 오랜시간 ...</td>\n",
       "      <td>찬성반대</td>\n",
       "      <td>초등_4학년</td>\n",
       "      <td>3.000000</td>\n",
       "    </tr>\n",
       "    <tr>\n",
       "      <th>3</th>\n",
       "      <td>요즘 환경문제에 대한 뉴스를 쉽게 접할 수 있습니다. 최근에는 미국 캘리포니에에서 ...</td>\n",
       "      <td>찬성반대</td>\n",
       "      <td>초등_6학년</td>\n",
       "      <td>3.000000</td>\n",
       "    </tr>\n",
       "    <tr>\n",
       "      <th>4</th>\n",
       "      <td>나는남북 통일에찬성 합니다. 왜냐하면 전쟁을하다가 죽은사람이 얼마나 만은데 그래서저...</td>\n",
       "      <td>찬성반대</td>\n",
       "      <td>초등_4학년</td>\n",
       "      <td>1.619048</td>\n",
       "    </tr>\n",
       "    <tr>\n",
       "      <th>...</th>\n",
       "      <td>...</td>\n",
       "      <td>...</td>\n",
       "      <td>...</td>\n",
       "      <td>...</td>\n",
       "    </tr>\n",
       "    <tr>\n",
       "      <th>5995</th>\n",
       "      <td>내가 최근에 봤던 영화는 블랙 위도우라는 마블 영화이다. 나는 원래 마블의 영화를 ...</td>\n",
       "      <td>설명글</td>\n",
       "      <td>고등_1학년</td>\n",
       "      <td>2.111111</td>\n",
       "    </tr>\n",
       "    <tr>\n",
       "      <th>5996</th>\n",
       "      <td>제가 다녔던 유치원은 초등학교 부설 유치원이어서 초등학교에 입학하지 않았어도 방과후...</td>\n",
       "      <td>설명글</td>\n",
       "      <td>고등_3학년</td>\n",
       "      <td>3.000000</td>\n",
       "    </tr>\n",
       "    <tr>\n",
       "      <th>5997</th>\n",
       "      <td>나는 옛날부터 it관련된 직업에 관심이 많이 있었었다. 그래서 it관련 회사인 마이...</td>\n",
       "      <td>설명글</td>\n",
       "      <td>고등_1학년</td>\n",
       "      <td>2.500000</td>\n",
       "    </tr>\n",
       "    <tr>\n",
       "      <th>5998</th>\n",
       "      <td>저의 꿈은 초등학교 선생님입니다. 스승이라는 단어를 생각하면 대다수가 제일 먼저 떠...</td>\n",
       "      <td>설명글</td>\n",
       "      <td>중등_1학년</td>\n",
       "      <td>2.666667</td>\n",
       "    </tr>\n",
       "    <tr>\n",
       "      <th>5999</th>\n",
       "      <td>몇 시간만에 이 소설을 딱 읽고 나서는 참 비참하다고 생각하였다. 얼마나 비참한가 ...</td>\n",
       "      <td>설명글</td>\n",
       "      <td>고등_1학년</td>\n",
       "      <td>2.666667</td>\n",
       "    </tr>\n",
       "  </tbody>\n",
       "</table>\n",
       "<p>6000 rows × 4 columns</p>\n",
       "</div>"
      ],
      "text/plain": [
       "                                          paragraph_txt essay_type  \\\n",
       "0     나는 다수결을 반대한대 왜냐하면 이거를 싫어하는사람도분명히 있을텐데 다 수결로만해서...       찬성반대   \n",
       "1     교육을 받기를 원하는 사람이 있으면 딱히 받고 싶지 않은 사람이 있을 지도 모른다....       찬성반대   \n",
       "2     남한과 북한의 통일은 너무너무 복잡한 일이라고 생각합니다. 우리는 북한과 오랜시간 ...       찬성반대   \n",
       "3     요즘 환경문제에 대한 뉴스를 쉽게 접할 수 있습니다. 최근에는 미국 캘리포니에에서 ...       찬성반대   \n",
       "4     나는남북 통일에찬성 합니다. 왜냐하면 전쟁을하다가 죽은사람이 얼마나 만은데 그래서저...       찬성반대   \n",
       "...                                                 ...        ...   \n",
       "5995  내가 최근에 봤던 영화는 블랙 위도우라는 마블 영화이다. 나는 원래 마블의 영화를 ...        설명글   \n",
       "5996  제가 다녔던 유치원은 초등학교 부설 유치원이어서 초등학교에 입학하지 않았어도 방과후...        설명글   \n",
       "5997  나는 옛날부터 it관련된 직업에 관심이 많이 있었었다. 그래서 it관련 회사인 마이...        설명글   \n",
       "5998  저의 꿈은 초등학교 선생님입니다. 스승이라는 단어를 생각하면 대다수가 제일 먼저 떠...        설명글   \n",
       "5999  몇 시간만에 이 소설을 딱 읽고 나서는 참 비참하다고 생각하였다. 얼마나 비참한가 ...        설명글   \n",
       "\n",
       "     student_grade  paragraph_scoreT_avg  \n",
       "0           초등_5학년              2.142857  \n",
       "1           중등_1학년              3.000000  \n",
       "2           초등_4학년              3.000000  \n",
       "3           초등_6학년              3.000000  \n",
       "4           초등_4학년              1.619048  \n",
       "...            ...                   ...  \n",
       "5995        고등_1학년              2.111111  \n",
       "5996        고등_3학년              3.000000  \n",
       "5997        고등_1학년              2.500000  \n",
       "5998        중등_1학년              2.666667  \n",
       "5999        고등_1학년              2.666667  \n",
       "\n",
       "[6000 rows x 4 columns]"
      ]
     },
     "execution_count": 124,
     "metadata": {},
     "output_type": "execute_result"
    }
   ],
   "source": [
    "df"
   ]
  },
  {
   "cell_type": "code",
   "execution_count": 125,
   "id": "601c194d-d54d-454b-a145-573fc3bfc2c2",
   "metadata": {},
   "outputs": [],
   "source": [
    "df.to_csv(\"./df_origin.csv\", index = False)"
   ]
  },
  {
   "cell_type": "code",
   "execution_count": 115,
   "id": "eeb42551-ded3-4fad-a04b-29d45d49af15",
   "metadata": {},
   "outputs": [
    {
     "data": {
      "text/plain": [
       "'인터넷 동영상에서 부시크래프트나 무인도에서 혼자 살아남기 등 서바이벌한 내용들을 자주 접하게 됩니다. 아무것도 없는 오지에서 혼자 비를 맞으며 나뭇잎으로 집도 만들거나 한사람이 겨우 들어갈만한 작은 텐트 하나에 의지해 불을 피워 밥을 해먹는다던지, 불빛 하나 없는 해변에서 하늘의 별을 보는 그런 멋진 모습들이 나의 마음을 설레게 하였습니다. 새로운 것들에 대한 나의 호기심과 그런 것들을 두려워하지 않는 마음, 경험하고 탐험하고자 하는 마음이 나를 부추깁니다. 그러다가 윤승철 무인도 탐험가에 대한 인터뷰를 보게 되었습니다. 무인도 탐험가 윤승철 님은 말씀하십니다. 탐험가가 되는 데는 특별한 자격, 조건도 없습니다. 새로운 것에 대한 관심과 호기심, 탐험을 통해 보고 경험한 것들을 기록하고 정리할수 있는 능력이 있다면 탐험가가 될 수 있다고 말하십니다. 언제나 미지의 장소로 떠나고 늘 새로운 사람, 새로운 장소를 찾아다니는 것이 탐험가의 삶이라며 그것을 즐기면 된다고 합니다. 그리고 좋은 탐험가가 되기 위해서는 미지의 세계에 대한 동경을 가지고 혼자서 시간을 보내도 괜찮거나, 반대로 현지에서 만나는 사람들과 융통성을 발휘하여 가까워질 수 있는 성향의 사람이라면 좋을 듯하다고 말했습니다. 내가 경험하고 탐험한 것을 함께 사람들과 나누고 공유할 수 있는 자세가 탐험가는 하는 일이기 때문입니다. 그래서 저는 생각해 보았습니다. 현재 내가 탐험가와 관련해 해볼 수 있는 일은 무엇이 있을까? 우선 내 주변의 근처에 있는 곳부터 조금씩 반경을 넓혀 다녀보고 기록을 남기는 연습을 하는게 좋을 것 같습니다. 생각해 보니 제가 사는 지역에도 제가 알지 못하는 미지의 공간이 너무나 많이 있습니다. 유명하거나 사람들이 자주 찾지 않는 지역에 대해 탐험하고 그곳에 대한 정보를 기록해 사람들에게 유투브나 블로그 등을 통해 알리면 그것도 탐험가 아닐까 하는 생각을 우선 하게 됩니다. 또는 우리지역의 산에 기존은 등산 탐방로가 아닌 사람들이 잘 다니지 않는 탐방로에 대해 조사해 보는 것도 좋은 경험이 될거 같습니다. 이렇게 여러지역을 탐험하고 탐험의 기록을 남기기 위해 필수적인 사진이나, 글, 영상 등을 다루는 방법을 제대로 숙지해 놓으면 더 좋을 듯 싶어 영상매체 다루는 관련 동영상을 찾아서 보았습니다. 그리고 효과적인 사진찍는법, 사진과 글을 이용한 영상만들기 등을 공부해보고 우리 지역에 내가 탐험해 볼만한 곳에 대한 정보도 뽑아서 리스트를 만들어 놓았습니다. 과연 이런게 직업이 될지 조금 의문도 들었습니다. 하지만 세상에는 우리가 알고 있는 직업이 아닌 새로운 직업도 많고 앞으로 더욱 그런 직업들이 다양해 질거라고 생각합니다. 그래서 더 많은 것을 해보고 더 많은 것에 관심을 가져 더많은 가능성의 세계를 탐험해 보고 싶습니다.'"
      ]
     },
     "execution_count": 115,
     "metadata": {},
     "output_type": "execute_result"
    }
   ],
   "source": [
    "df[\"paragraph_txt\"][5555]"
   ]
  }
 ],
 "metadata": {
  "kernelspec": {
   "display_name": "Python 3 (ipykernel)",
   "language": "python",
   "name": "python3"
  },
  "language_info": {
   "codemirror_mode": {
    "name": "ipython",
    "version": 3
   },
   "file_extension": ".py",
   "mimetype": "text/x-python",
   "name": "python",
   "nbconvert_exporter": "python",
   "pygments_lexer": "ipython3",
   "version": "3.7.11"
  }
 },
 "nbformat": 4,
 "nbformat_minor": 5
}
